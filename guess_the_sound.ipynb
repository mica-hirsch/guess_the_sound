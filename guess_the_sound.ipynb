{
  "nbformat": 4,
  "nbformat_minor": 0,
  "metadata": {
    "colab": {
      "name": "guess_the_sound.ipynb",
      "provenance": [],
      "collapsed_sections": [
        "5_jbpDjrPw3G"
      ],
      "toc_visible": true,
      "authorship_tag": "ABX9TyNC5qQkwncmfifFaxxCwhkY",
      "include_colab_link": true
    },
    "kernelspec": {
      "name": "python3",
      "display_name": "Python 3"
    }
  },
  "cells": [
    {
      "cell_type": "markdown",
      "metadata": {
        "id": "view-in-github",
        "colab_type": "text"
      },
      "source": [
        "<a href=\"https://colab.research.google.com/github/mica-hirsch/guess_the_sound/blob/main/guess_the_sound.ipynb\" target=\"_parent\"><img src=\"https://colab.research.google.com/assets/colab-badge.svg\" alt=\"Open In Colab\"/></a>"
      ]
    },
    {
      "cell_type": "markdown",
      "metadata": {
        "id": "5_jbpDjrPw3G"
      },
      "source": [
        "# 1. Install game\n",
        "\n",
        "To install the game, click on \"play\", below this text."
      ]
    },
    {
      "cell_type": "code",
      "metadata": {
        "id": "rtj68BBuO0ds"
      },
      "source": [
        "!wget --load-cookies /tmp/cookies.txt \"https://docs.google.com/uc?export=download&confirm=$(wget --quiet --save-cookies /tmp/cookies.txt --keep-session-cookies --no-check-certificate 'https://docs.google.com/uc?export=download&id=1KzxQMkSFcoK8GALl0xxs4rP1XJzXvejy' -O- | sed -rn 's/.*confirm=([0-9A-Za-z_]+).*/\\1\\n/p')&id=1KzxQMkSFcoK8GALl0xxs4rP1XJzXvejy\" -O sonidos.zip && rm -rf /tmp/cookies.txt\n",
        "!unzip -o sonidos.zip\n"
      ],
      "execution_count": null,
      "outputs": []
    },
    {
      "cell_type": "code",
      "metadata": {
        "id": "7wdtOQs8JE8d"
      },
      "source": [
        "import IPython.display as ipd\n",
        "from IPython.display import Audio\n",
        "import random\n",
        "from google.colab import output\n",
        "import time\n",
        "import os"
      ],
      "execution_count": null,
      "outputs": []
    },
    {
      "cell_type": "code",
      "metadata": {
        "id": "UAnIuReIJFvQ"
      },
      "source": [
        "def reproducir_sonido(archivo):\n",
        "  return Audio(archivo, autoplay=True)\n",
        "\n",
        "diccionario_sonidos={}             \n",
        "archivos=os.listdir(\"/content\")\n",
        "for archivo in archivos:\n",
        "  if archivo.endswith(\".mp3\"):\n",
        "    diccionario_sonidos[archivo]=os.path.splitext(archivo)[0]"
      ],
      "execution_count": null,
      "outputs": []
    },
    {
      "cell_type": "markdown",
      "metadata": {
        "id": "2vaad69eMxSg"
      },
      "source": [
        "#2. Play#\n",
        "Listen to the sound, try to guess where it comes from, write your answer and press enter (try to write without spelling mistakes, in lower case).\n",
        "\n",
        "To start, click on \"play\".\n",
        "\n",
        "If you want to skip a sound, write \"next\" in your answer."
      ]
    },
    {
      "cell_type": "code",
      "metadata": {
        "id": "mpti0KHifYGC",
        "cellView": "both"
      },
      "source": [
        "#@title\n",
        "sonidos = list(diccionario_sonidos.keys())\n",
        "random.shuffle(sonidos)\n",
        "for sonido in sonidos:\n",
        "  a = reproducir_sonido(sonido)\n",
        "  display(a)\n",
        " \n",
        "  print(\"Tu respuesta:\")\n",
        " \n",
        "  continuar=True\n",
        "  while continuar:\n",
        "    respuesta=input()\n",
        "    if respuesta==diccionario_sonidos[sonido]:\n",
        "      print(\"¡Correcto!\")\n",
        "      continuar=False\n",
        "    elif respuesta==\"next\":\n",
        "      print(\"La respuesta era \" + diccionario_sonidos[sonido]+\".\")\n",
        "      continuar=False\n",
        "    else:\n",
        "      print(\"Volvé a intentarlo.\")\n",
        "  time.sleep(1)\n",
        "  output.clear()"
      ],
      "execution_count": null,
      "outputs": []
    }
  ]
}